{
 "cells": [
  {
   "cell_type": "code",
   "execution_count": null,
   "id": "5413d5e5",
   "metadata": {},
   "outputs": [],
   "source": [
    "'''\n",
    "Imagine you are part of a team developing an inventory management system for a small business. Your team has been tasked with building a prototype of the system. The system should be able to perform basic inventory management operations, such as adding items to the inventory, updating item quantities, removing items, and displaying the current inventory.\n",
    "\n",
    "Your task is to enhance the inventory management system using Python, following the requirements below:\n",
    "\n",
    "'''\n",
    "\n",
    "'''\n",
    "1. Implement a base class named `Item` to represent each item in the inventory. The class should have the following attributes and methods:\n",
    "   - Attributes:\n",
    "     - Item ID (numeric)\n",
    "     - Item Name (string)\n",
    "     - Quantity Available (numeric)\n",
    "     - Price per Item (numeric)\n",
    "   - Methods:\n",
    "     - `update_quantity(new_quantity)`: Updates the quantity available for the item.\n",
    "     - `calculate_total_cost(quantity)`: Calculates and returns the total cost of a specified quantity of the item.\n",
    "\n",
    ". Implement two subclasses of `Item`:\n",
    "  - `PerishableItem`: Represents perishable items that have an additional attribute `expiry_date`. \n",
    "  Include a method `check_expiry()` to check if the item has expired.\n",
    "   - `NonPerishableItem`: Represents non-perishable items that have an additional attribute `weight`. \n",
    "   Include a method `calculate_shipping_cost()` to calculate the shipping cost based on weight.\n",
    "\n",
    "3. Implement an inventory management class named `Inventory` to manage the inventory. \n",
    "The class should have the following attributes and methods:\n",
    "   - Attributes:\n",
    "     - Inventory items (a list to store instances of the `Item` class)\n",
    "   - Methods:\n",
    "     - `add_item(item)`: Adds a new item to the inventory.\n",
    "     - `update_item_quantity(item_id, new_quantity)`: Updates the quantity available for a specific item.\n",
    "     - `remove_item(item_id)`: Removes an item from the inventory.\n",
    "     - `display_inventory()`: Displays the current inventory.\n",
    "\n",
    "4. Create instances of `PerishableItem` and `NonPerishableItem` and add them to the inventory.\n",
    "5. Test the functionalities of the inventory management system by performing operations such as adding items, \n",
    "updating quantities, removing items, and displaying the inventory.\n",
    "\n",
    "d1 = datetime.datetime(2018, 5, 3)\n",
    "d2 = datetime.datetime(2018, 6, 1)\n",
    "'''\n",
    "\n",
    "\n"
   ]
  },
  {
   "cell_type": "code",
   "execution_count": 51,
   "id": "2bbe66b2",
   "metadata": {},
   "outputs": [],
   "source": [
    "import datetime\n",
    "class Item:\n",
    "    Item_Id = 0\n",
    "    Item_Name = \" \"\n",
    "    Quantity_Available = 0\n",
    "    Price_Item = 0\n",
    "    \n",
    "    \n",
    "    def __init__(self,Id,Item_Name, Quantity_Available, Price_item):\n",
    "        self.Item_Id = Id\n",
    "        self.Item_Name = Item_Name\n",
    "        self.Quantity_Available = Quantity_Available\n",
    "        self.Price_Item = Price_item\n",
    "        \n",
    "        \n",
    "    def update_quantity(self, new_qty):\n",
    "        self.Quantity_Available = new_qty\n",
    "        \n",
    "    def calculate_total_cost(self):\n",
    "        total_cost = self.Quantity_Available * self.Price_Item\n",
    "        return total_cost\n",
    "    \n",
    "    def print_info(self):\n",
    "        print('Item Id   :',self.Item_Id)\n",
    "        print('Item_Name :', self.Item_Name)\n",
    "        print('Quantity  :', self.Quantity_Available)\n",
    "        print('Price     :', self.Price_Item)\n",
    "        \n",
    "        "
   ]
  },
  {
   "cell_type": "code",
   "execution_count": 54,
   "id": "898bbcbf",
   "metadata": {},
   "outputs": [
    {
     "name": "stdout",
     "output_type": "stream",
     "text": [
      "Item Id   : 10\n",
      "Item_Name : Brush\n",
      "Quantity  : 10\n",
      "Price     : 55\n",
      "Total cost  : 550\n"
     ]
    }
   ],
   "source": [
    "It1 = Item(10,\"Brush\",60, 55)\n",
    "It1.update_quantity(10)\n",
    "It1.print_info()\n",
    "print('Total cost  :', It1.calculate_total_cost())"
   ]
  },
  {
   "cell_type": "code",
   "execution_count": 61,
   "id": "16d245a9",
   "metadata": {},
   "outputs": [],
   "source": [
    "from datetime import date\n",
    "class PerishableItem(Item):\n",
    "    \n",
    "    def set_expirydate(self,exp_date):\n",
    "        self.exp_date = exp_date\n",
    "        \n",
    "    def set_typeperish(self,Itemtyp):\n",
    "        self.Item_typ = Itemtyp\n",
    "    \n",
    "    def check_expiry(self):        \n",
    "        if(date.today() > self.exp_date):\n",
    "            return 0\n",
    "        \n",
    "    def display_info(self):\n",
    "        self.print_info()\n",
    "        print(\"Expiry date\",self.exp_date)\n",
    "        print(\"Type \",self.Item_typ)\n",
    "        \n",
    "class NonPerishableItem(Item):\n",
    "    def calculate_shipping_cost(self, weight):\n",
    "        self.cost = weight * 10  #10 INR per kg\n",
    "        return self.cost\n",
    "    \n",
    "    def set_typeperish(self,Itemtyp):\n",
    "        self.Item_typ = Itemtyp\n",
    "    \n",
    "    def display_info(self):\n",
    "        print (\"NON PERISH\")\n",
    "        self.print_info()\n",
    "        print(\"Shipping cost  :\",self.cost)"
   ]
  },
  {
   "cell_type": "code",
   "execution_count": 62,
   "id": "f8377cb8",
   "metadata": {},
   "outputs": [
    {
     "name": "stdout",
     "output_type": "stream",
     "text": [
      "Item Id   : 10\n",
      "Item_Name : OIL\n",
      "Quantity  : 40\n",
      "Price     : 15\n",
      "Expiry date 20230203\n",
      "Type  PERISHABLE\n"
     ]
    }
   ],
   "source": [
    "ItPer = PerishableItem(10,'OIL',40,15)\n",
    "ItPer.set_typeperish('PERISHABLE')\n",
    "ItPer.set_expirydate('20230203')\n",
    "ItPer.display_info()"
   ]
  },
  {
   "cell_type": "code",
   "execution_count": 64,
   "id": "74fcf45c",
   "metadata": {},
   "outputs": [],
   "source": [
    "class Inventory():\n",
    "    Item_list = []\n",
    "    counter = 0         \n",
    "    \n",
    "    def __init__(self):\n",
    "        self.Item_list = []\n",
    "               \n",
    "    def add_item(self, item):\n",
    "        self.Item_list.append(item)\n",
    "        print('Count:',len(self.Item_list))\n",
    "                \n",
    "    def Update_item(item, Id, Quantity):        \n",
    "        for item in Item_list:\n",
    "            if item.Item_Id == Id:\n",
    "                item.Quantity_Available = Quantity\n",
    "                return 1\n",
    "            \n",
    "    def display_inventory(self):\n",
    "        for itm in self.Item_list:\n",
    "            itm.print_info()\n",
    "            \n",
    "    \n",
    "            \n",
    "            \n",
    "    \n",
    "                "
   ]
  },
  {
   "cell_type": "code",
   "execution_count": 69,
   "id": "1bd53bea",
   "metadata": {},
   "outputs": [
    {
     "name": "stdout",
     "output_type": "stream",
     "text": [
      "Item Id   : 10\n",
      "Item_Name : OIL\n",
      "Quantity  : 40\n",
      "Price     : 15\n",
      "Expiry date 20230203\n",
      "Type  PERISHABLE\n",
      "Count: 1\n",
      "Count: 2\n",
      "Count: 3\n",
      "Item Id   : 10\n",
      "Item_Name : OIL\n",
      "Quantity  : 40\n",
      "Price     : 15\n",
      "Item Id   : 10\n",
      "Item_Name : GHEE\n",
      "Quantity  : 65\n",
      "Price     : 85\n",
      "Item Id   : 10\n",
      "Item_Name : BRUSH\n",
      "Quantity  : 65\n",
      "Price     : 76\n",
      "0\n"
     ]
    }
   ],
   "source": [
    "ItPer = PerishableItem(10,'OIL',40,15)\n",
    "ItPer.set_typeperish('PERISHABLE')\n",
    "ItPer.set_expirydate('20230203')\n",
    "ItPer.display_info()\n",
    "Inv = Inventory()\n",
    "Inv.add_item(ItPer)\n",
    "ItPer = PerishableItem(10,'GHEE',65,85)\n",
    "ItPer.set_typeperish('PERISHABLE')\n",
    "ItPer.set_expirydate('20240203')\n",
    "ItNper = NonPerishableItem(10,'BRUSH',65,76)\n",
    "ItNper.set_typeperish('NON PERISHABLE')\n",
    "ItNper.calculate_shipping_cost(100)\n",
    "Inv.add_item(ItPer)\n",
    "Inv.add_item(ItNper)\n",
    "Inv.display_inventory()\n",
    "print(Inv.counter)\n",
    "\n"
   ]
  },
  {
   "cell_type": "code",
   "execution_count": null,
   "id": "d46cf88d",
   "metadata": {},
   "outputs": [],
   "source": []
  }
 ],
 "metadata": {
  "kernelspec": {
   "display_name": "Python 3 (ipykernel)",
   "language": "python",
   "name": "python3"
  },
  "language_info": {
   "codemirror_mode": {
    "name": "ipython",
    "version": 3
   },
   "file_extension": ".py",
   "mimetype": "text/x-python",
   "name": "python",
   "nbconvert_exporter": "python",
   "pygments_lexer": "ipython3",
   "version": "3.11.5"
  }
 },
 "nbformat": 4,
 "nbformat_minor": 5
}
